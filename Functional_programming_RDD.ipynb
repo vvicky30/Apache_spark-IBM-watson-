{
    "cells": [
        {
            "cell_type": "code",
            "execution_count": 1,
            "metadata": {},
            "outputs": [
                {
                    "name": "stdout",
                    "output_type": "stream",
                    "text": "Waiting for a Spark session to start...\nSpark Initialization Done! ApplicationId = app-20200429191722-0000\nKERNEL_ID = 2e6dd40b-0643-4cda-b287-8e4412bd4ab2\n"
                },
                {
                    "data": {
                        "text/markdown": "# <span style=\"color:red\"><<<<<!!!!! It seems that you are running in a IBM Watson Studio Apache Spark Notebook. Please run it in an IBM Watson Studio Default Runtime (without Apache Spark) !!!!!>>>>></span>",
                        "text/plain": "<IPython.core.display.Markdown object>"
                    },
                    "metadata": {},
                    "output_type": "display_data"
                }
            ],
            "source": "from IPython.display import Markdown, display\ndef printmd(string):\n    display(Markdown('# <span style=\"color:red\">'+string+'</span>'))\n\n\nif ('sc' in locals() or 'sc' in globals()):\n    printmd('<<<<<!!!!! It seems that you are running in a IBM Watson Studio Apache Spark Notebook. Please run it in an IBM Watson Studio Default Runtime (without Apache Spark) !!!!!>>>>>')\n"
        },
        {
            "cell_type": "code",
            "execution_count": 2,
            "metadata": {},
            "outputs": [
                {
                    "name": "stdout",
                    "output_type": "stream",
                    "text": "Collecting pyspark==2.4.5\n\u001b[?25l  Downloading https://files.pythonhosted.org/packages/9a/5a/271c416c1c2185b6cb0151b29a91fff6fcaed80173c8584ff6d20e46b465/pyspark-2.4.5.tar.gz (217.8MB)\n\u001b[K    100% |################################| 217.8MB 95kB/s  eta 0:00:01K    40% |#############                   | 89.2MB 60.1MB/s eta 0:00:03    69% |######################          | 151.6MB 61.6MB/s eta 0:00:02\n\u001b[?25hCollecting py4j==0.10.7 (from pyspark==2.4.5)\n\u001b[?25l  Downloading https://files.pythonhosted.org/packages/e3/53/c737818eb9a7dc32a7cd4f1396e787bd94200c3997c72c1dbe028587bd76/py4j-0.10.7-py2.py3-none-any.whl (197kB)\n\u001b[K    100% |################################| 204kB 5.3MB/s eta 0:00:01\n\u001b[?25hBuilding wheels for collected packages: pyspark\n  Building wheel for pyspark (setup.py) ... \u001b[?25ldone\n\u001b[?25h  Stored in directory: /home/spark/shared/.cache/pip/wheels/bf/db/04/61d66a5939364e756eb1c1be4ec5bdce6e04047fc7929a3c3c\nSuccessfully built pyspark\nInstalling collected packages: py4j, pyspark\nSuccessfully installed py4j-0.10.7 pyspark-2.4.5\n"
                }
            ],
            "source": "!pip install pyspark==2.4.5"
        },
        {
            "cell_type": "code",
            "execution_count": 4,
            "metadata": {},
            "outputs": [],
            "source": "try:\n    from pyspark import SparkContext, SparkConf\n    from pyspark.sql import SparkSession\nexcept ImportError as e:\n    printmd('<<<<<!!!!! Please restart your kernel after installing Apache Spark !!!!!>>>>>')"
        },
        {
            "cell_type": "code",
            "execution_count": 5,
            "metadata": {},
            "outputs": [],
            "source": "sc = SparkContext.getOrCreate(SparkConf().setMaster(\"local[*]\"))\n\nspark = SparkSession \\\n    .builder \\\n    .getOrCreate()"
        },
        {
            "cell_type": "markdown",
            "metadata": {
                "collapsed": true
            },
            "source": "Welcome to exercise two of \u201cApache Spark for Scalable Machine Learning on BigData\u201d. In this exercise you\u2019ll apply the basics of functional and parallel programming. \n\nAgain, please use the following two links for your reference:\nhttps://spark.apache.org/docs/latest/api/python/pyspark.html#pyspark.RDD\nhttps://spark.apache.org/docs/latest/rdd-programming-guide.html\n\nLet\u2019s actually create a python function which decides whether a value is greater than 50 (True) or not (False)."
        },
        {
            "cell_type": "code",
            "execution_count": 6,
            "metadata": {},
            "outputs": [],
            "source": "def gt50(i):\n    if i > 50:\n        return True\n    else:\n        return False"
        },
        {
            "cell_type": "code",
            "execution_count": 7,
            "metadata": {},
            "outputs": [
                {
                    "name": "stdout",
                    "output_type": "stream",
                    "text": "False\nTrue\n"
                }
            ],
            "source": "print(gt50(4))\nprint(gt50(51))"
        },
        {
            "cell_type": "markdown",
            "metadata": {},
            "source": "Let\u2019s simplify this function"
        },
        {
            "cell_type": "code",
            "execution_count": 10,
            "metadata": {},
            "outputs": [],
            "source": "def gt50(i):\n    return i > 50"
        },
        {
            "cell_type": "code",
            "execution_count": 11,
            "metadata": {},
            "outputs": [
                {
                    "name": "stdout",
                    "output_type": "stream",
                    "text": "False\nTrue\n"
                }
            ],
            "source": "print(gt50(4))\nprint(gt50(51))"
        },
        {
            "cell_type": "markdown",
            "metadata": {},
            "source": "Now let\u2019s use the lambda notation to define the function."
        },
        {
            "cell_type": "code",
            "execution_count": 12,
            "metadata": {},
            "outputs": [],
            "source": "gt50 = lambda i: i > 50"
        },
        {
            "cell_type": "code",
            "execution_count": 13,
            "metadata": {},
            "outputs": [
                {
                    "name": "stdout",
                    "output_type": "stream",
                    "text": "False\nTrue\n"
                }
            ],
            "source": "print(gt50(4))\nprint(gt50(51))"
        },
        {
            "cell_type": "code",
            "execution_count": 14,
            "metadata": {},
            "outputs": [],
            "source": "#let's shuffle our list to make it a bit more interesting\nfrom random import shuffle\nl = list(range(100))\nshuffle(l)\nrdd = sc.parallelize(l)"
        },
        {
            "cell_type": "markdown",
            "metadata": {},
            "source": "Let\u2019s filter values from our list which are equals or less than 50 by applying our \u201cgt50\u201d function to the list using the \u201cfilter\u201d function. Note that by calling the \u201ccollect\u201d function, all elements are returned to the Apache Spark Driver. This is not a good idea for BigData, please use \u201c.sample(10,0.1).collect()\u201d or \u201ctake(n)\u201d instead."
        },
        {
            "cell_type": "code",
            "execution_count": 15,
            "metadata": {},
            "outputs": [
                {
                    "data": {
                        "text/plain": "[80,\n 89,\n 56,\n 90,\n 78,\n 75,\n 94,\n 66,\n 58,\n 51,\n 71,\n 68,\n 65,\n 54,\n 92,\n 99,\n 87,\n 70,\n 84,\n 88,\n 67,\n 81,\n 98,\n 53,\n 57,\n 63,\n 96,\n 61,\n 62,\n 86,\n 79,\n 64,\n 60,\n 52,\n 72,\n 83,\n 55,\n 74,\n 95,\n 69,\n 85,\n 77,\n 91,\n 93,\n 73,\n 59,\n 82,\n 97,\n 76]"
                    },
                    "execution_count": 15,
                    "metadata": {},
                    "output_type": "execute_result"
                }
            ],
            "source": "rdd.filter(gt50).collect()"
        },
        {
            "cell_type": "markdown",
            "metadata": {},
            "source": "We can also use the lambda function directly."
        },
        {
            "cell_type": "code",
            "execution_count": 16,
            "metadata": {},
            "outputs": [
                {
                    "data": {
                        "text/plain": "[80,\n 89,\n 56,\n 90,\n 78,\n 75,\n 94,\n 66,\n 58,\n 51,\n 71,\n 68,\n 65,\n 54,\n 92,\n 99,\n 87,\n 70,\n 84,\n 88,\n 67,\n 81,\n 98,\n 53,\n 57,\n 63,\n 96,\n 61,\n 62,\n 86,\n 79,\n 64,\n 60,\n 52,\n 72,\n 83,\n 55,\n 74,\n 95,\n 69,\n 85,\n 77,\n 91,\n 93,\n 73,\n 59,\n 82,\n 97,\n 76]"
                    },
                    "execution_count": 16,
                    "metadata": {},
                    "output_type": "execute_result"
                }
            ],
            "source": "rdd.filter(lambda i: i > 50).collect()"
        },
        {
            "cell_type": "markdown",
            "metadata": {},
            "source": "Let\u2019s consider the same list of integers. Now we want to compute the sum for elements in that list which are greater than 50 but less than 75. Please implement the missing parts. "
        },
        {
            "cell_type": "code",
            "execution_count": 17,
            "metadata": {},
            "outputs": [
                {
                    "data": {
                        "text/plain": "1500"
                    },
                    "execution_count": 17,
                    "metadata": {},
                    "output_type": "execute_result"
                }
            ],
            "source": "rdd.filter(lambda x: x>50 ).filter(lambda x:x<75).sum()"
        },
        {
            "cell_type": "markdown",
            "metadata": {},
            "source": "You should see \"1500\" as answer. Now we want to know the sum of all elements. Please again, have a look at the API documentation and complete the code below in order to get the sum."
        },
        {
            "cell_type": "code",
            "execution_count": 18,
            "metadata": {},
            "outputs": [
                {
                    "data": {
                        "text/plain": "4950"
                    },
                    "execution_count": 18,
                    "metadata": {},
                    "output_type": "execute_result"
                }
            ],
            "source": "rdd.sum()"
        },
        {
            "cell_type": "code",
            "execution_count": null,
            "metadata": {},
            "outputs": [],
            "source": ""
        }
    ],
    "metadata": {
        "kernelspec": {
            "display_name": "Python 3.6 with Spark",
            "language": "python3",
            "name": "python36"
        },
        "language_info": {
            "codemirror_mode": {
                "name": "ipython",
                "version": 3
            },
            "file_extension": ".py",
            "mimetype": "text/x-python",
            "name": "python",
            "nbconvert_exporter": "python",
            "pygments_lexer": "ipython3",
            "version": "3.6.8"
        }
    },
    "nbformat": 4,
    "nbformat_minor": 1
}