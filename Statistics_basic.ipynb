{
    "cells": [
        {
            "cell_type": "code",
            "execution_count": 111,
            "metadata": {},
            "outputs": [],
            "source": "rdd = sc.parallelize([1,2,4,5,34,1,32,4,34,2,1,3])\n"
        },
        {
            "cell_type": "code",
            "execution_count": 68,
            "metadata": {},
            "outputs": [
                {
                    "name": "stdout",
                    "output_type": "stream",
                    "text": "Collecting pyspark==2.4.5\nCollecting py4j==0.10.7 (from pyspark==2.4.5)\n  Using cached https://files.pythonhosted.org/packages/e3/53/c737818eb9a7dc32a7cd4f1396e787bd94200c3997c72c1dbe028587bd76/py4j-0.10.7-py2.py3-none-any.whl\nInstalling collected packages: py4j, pyspark\nSuccessfully installed py4j-0.10.7 pyspark-2.4.5\n\u001b[33mTarget directory /home/spark/shared/user-libs/python3.6/py4j-0.10.7.dist-info already exists. Specify --upgrade to force replacement.\u001b[0m\n\u001b[33mTarget directory /home/spark/shared/user-libs/python3.6/py4j already exists. Specify --upgrade to force replacement.\u001b[0m\n\u001b[33mTarget directory /home/spark/shared/user-libs/python3.6/pyspark already exists. Specify --upgrade to force replacement.\u001b[0m\n\u001b[33mTarget directory /home/spark/shared/user-libs/python3.6/pyspark-2.4.5.dist-info already exists. Specify --upgrade to force replacement.\u001b[0m\n\u001b[33mTarget directory /home/spark/shared/user-libs/python3.6/share already exists. Specify --upgrade to force replacement.\u001b[0m\n\u001b[33mTarget directory /home/spark/shared/user-libs/python3.6/bin already exists. Specify --upgrade to force replacement.\u001b[0m\n"
                }
            ],
            "source": "!pip install pyspark==2.4.5"
        },
        {
            "cell_type": "code",
            "execution_count": 112,
            "metadata": {},
            "outputs": [
                {
                    "data": {
                        "text/plain": "10.25"
                    },
                    "execution_count": 112,
                    "metadata": {},
                    "output_type": "execute_result"
                }
            ],
            "source": "#for calculating mean:-\nsum=rdd.sum()\nn=rdd.count()\nmean=sum/n\nmean"
        },
        {
            "cell_type": "code",
            "execution_count": 113,
            "metadata": {},
            "outputs": [
                {
                    "name": "stdout",
                    "output_type": "stream",
                    "text": "3\n4\n3.5\n"
                }
            ],
            "source": "#for calculating median:-\n###firstly we have to sort the list and for acessing we use indexing\nsorted_indexed=rdd.sortBy(lambda X: X).zipWithIndex().map(lambda k_v: (k_v[1], k_v[0])).collect()\nsorted_indexed\nn=rdd.count()\nif(n%2==1):   #if it's odd\n    index=int((n-1)/2)\n    print(sorted_indexed[index][0])\nelse:\n    index1=int((n/2)-1)\n    index2=int(n/2)\n    value1=sorted_indexed[index1][1]\n    value2=sorted_indexed[index2][1]\n    print(value1)\n    print(value2)\n    print((value1+value2)/2)\n   \n#"
        },
        {
            "cell_type": "code",
            "execution_count": 115,
            "metadata": {},
            "outputs": [
                {
                    "name": "stdout",
                    "output_type": "stream",
                    "text": "Median of data-set is : 3.5 \n"
                }
            ],
            "source": "#ordinary method:---\nimport statistics \n  \n# unsorted list of random integers \ndata1 = [1,2,4,5,34,1,32,4,34,2,1,3] \n  \n  \n# Printing median of the \n# random data-set \nprint(\"Median of data-set is : % s \"\n        % (statistics.median(data1))) "
        },
        {
            "cell_type": "code",
            "execution_count": 128,
            "metadata": {},
            "outputs": [
                {
                    "data": {
                        "text/plain": "10.562196741208714"
                    },
                    "execution_count": 128,
                    "metadata": {},
                    "output_type": "execute_result"
                }
            ],
            "source": "rdd1 = sc.parallelize([34,1,23,4,3,3,12,4,3,1])\n#for calculating standard deveation:-\nsum=rdd1.sum()\nn=rdd1.count()\nmean=sum/n\nmean\nfrom math import sqrt\nsd=sqrt(rdd1.map(lambda x: pow(x-mean,2)).sum()/n)\nsd"
        },
        {
            "cell_type": "code",
            "execution_count": 129,
            "metadata": {},
            "outputs": [
                {
                    "data": {
                        "text/plain": "3.663124005193276"
                    },
                    "execution_count": 129,
                    "metadata": {},
                    "output_type": "execute_result"
                }
            ],
            "source": "#for calculating kurtosis:--\nkurtosis=rdd1.map(lambda x: pow(x-mean,4)/pow(sd,4)).sum()/n\nkurtosis\n"
        },
        {
            "cell_type": "code",
            "execution_count": 130,
            "metadata": {},
            "outputs": [
                {
                    "data": {
                        "text/plain": "1.4549069329914"
                    },
                    "execution_count": 130,
                    "metadata": {},
                    "output_type": "execute_result"
                }
            ],
            "source": "#for calculatingskewness:--\nskewness=(1/n)*rdd1.map(lambda x: pow(x-mean,3)/pow(sd,3)).sum()\nskewness"
        },
        {
            "cell_type": "code",
            "execution_count": 131,
            "metadata": {},
            "outputs": [],
            "source": "#correlation and covaience between following list:-----\nrddx=sc.parallelize([1,2,3,4,5,6,7,8,9,10])\nrddy=sc.parallelize([7,6,5,4,5,6,7,8,9,10])"
        },
        {
            "cell_type": "code",
            "execution_count": 132,
            "metadata": {},
            "outputs": [
                {
                    "name": "stdout",
                    "output_type": "stream",
                    "text": "5.5\n6.7\n"
                }
            ],
            "source": "#for covarience:---\nmean_x=rddx.sum()/rddx.count()\nmean_y=rddy.sum()/rddy.count()\nprint(mean_x)\nprint(mean_y)"
        },
        {
            "cell_type": "code",
            "execution_count": 135,
            "metadata": {},
            "outputs": [
                {
                    "data": {
                        "text/plain": "[(1, 7),\n (2, 6),\n (3, 5),\n (4, 4),\n (5, 5),\n (6, 6),\n (7, 7),\n (8, 8),\n (9, 9),\n (10, 10)]"
                    },
                    "execution_count": 135,
                    "metadata": {},
                    "output_type": "execute_result"
                }
            ],
            "source": "#since we have to acess rddx and rddy at the same time  so we have to zip-in both the list\nrddxy=rddx.zip(rddy)\nrddxy.collect()"
        },
        {
            "cell_type": "code",
            "execution_count": 141,
            "metadata": {},
            "outputs": [
                {
                    "data": {
                        "text/plain": "10"
                    },
                    "execution_count": 141,
                    "metadata": {},
                    "output_type": "execute_result"
                }
            ],
            "source": "rddxy.count()"
        },
        {
            "cell_type": "code",
            "execution_count": null,
            "metadata": {},
            "outputs": [],
            "source": "#now implementing covaience formula\ncovXY = rddxy.map(lambda x,y: (x-mean_x)*(y-mean_y)).sum()/rddXY.count()\n"
        }
    ],
    "metadata": {
        "kernelspec": {
            "display_name": "Python 3.6 with Spark",
            "language": "python3",
            "name": "python36"
        },
        "language_info": {
            "codemirror_mode": {
                "name": "ipython",
                "version": 3
            },
            "file_extension": ".py",
            "mimetype": "text/x-python",
            "name": "python",
            "nbconvert_exporter": "python",
            "pygments_lexer": "ipython3",
            "version": "3.6.8"
        }
    },
    "nbformat": 4,
    "nbformat_minor": 1
}