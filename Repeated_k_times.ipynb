{
  "nbformat": 4,
  "nbformat_minor": 0,
  "metadata": {
    "colab": {
      "name": "Repeated k times",
      "provenance": [],
      "collapsed_sections": [],
      "authorship_tag": "ABX9TyNY3guccSo67cLAn7d4ZzjP",
      "include_colab_link": true
    },
    "kernelspec": {
      "name": "python3",
      "display_name": "Python 3"
    }
  },
  "cells": [
    {
      "cell_type": "markdown",
      "metadata": {
        "id": "view-in-github",
        "colab_type": "text"
      },
      "source": [
        "<a href=\"https://colab.research.google.com/github/vvicky30/Apache_spark-IBM-watson-/blob/master/Repeated_k_times.ipynb\" target=\"_parent\"><img src=\"https://colab.research.google.com/assets/colab-badge.svg\" alt=\"Open In Colab\"/></a>"
      ]
    },
    {
      "cell_type": "markdown",
      "metadata": {
        "id": "Eg2ywdthWCg5",
        "colab_type": "text"
      },
      "source": [
        "##problem:\n",
        "Given a List of N number a1,a2,a3........an, You have to find smallest number from the List that is repeated in the List exactly K number of times.\n",
        "\n",
        "###Input Format:\n",
        "\n",
        "First Line of Input Contain Single Value N, Size of List\n",
        "\n",
        "Second Line of Input Contain N Space Separated Integers\n",
        "\n",
        "Third Line of Input Contain Single Value K\n",
        "\n",
        "###Output Format:\n",
        "\n",
        "Smallest Integer Value That is Repeated Exactly K Number of Time\n",
        "\n",
        "###Constraints:\n",
        "\n",
        "0 < N < 100001,\n",
        "0 <= K < 100001,\n",
        "0 <= ai < 100001,\n",
        "###sample input:\n",
        "5\n",
        "\n",
        "2 2 1 3 1\n",
        "\n",
        "2\n",
        "###sample output:\n",
        "\n",
        "1"
      ]
    },
    {
      "cell_type": "code",
      "metadata": {
        "id": "4o8fM3j7K0nP",
        "colab_type": "code",
        "colab": {
          "base_uri": "https://localhost:8080/",
          "height": 84
        },
        "outputId": "d2eed2d2-759f-4b77-9840-5fdae8b365a7"
      },
      "source": [
        "#solution no 1: -----\n",
        "n=int(input())\n",
        "arr=list(map(int,input().split()))[:n]\n",
        "k=int(input())\n",
        "visited = [False for i in range(n)] \n",
        "freq=[]\n",
        "# initializing count equal to zero \n",
        "for i in range(0, n, 1): \n",
        "          \n",
        "    # If arr[i] already processed \n",
        "      if (visited[i] == True): \n",
        "          continue\n",
        "  \n",
        "        # counting occurrences of arr[i] \n",
        "      count = 1\n",
        "      for j in range(i + 1, n, 1):\n",
        " \n",
        "        if (arr[i] == arr[j]):\n",
        "\n",
        "          count += 1\n",
        "          visited[j] = True\n",
        "      \n",
        "      if (count == k):\n",
        "        freq.append(arr[i])\n",
        "\n",
        "print(min(freq))\n",
        "\n"
      ],
      "execution_count": 65,
      "outputs": [
        {
          "output_type": "stream",
          "text": [
            "5\n",
            "2 2 1 3 1\n",
            "2\n",
            "1\n"
          ],
          "name": "stdout"
        }
      ]
    },
    {
      "cell_type": "code",
      "metadata": {
        "id": "-UweppCpK5I_",
        "colab_type": "code",
        "colab": {
          "base_uri": "https://localhost:8080/",
          "height": 84
        },
        "outputId": "772a6124-bf38-420f-ddb2-4560f938e4fa"
      },
      "source": [
        "#solution no 2:--\n",
        "n=int(input())\n",
        "arr=list(map(int,input().split()))[:n]\n",
        "d={}#maintaining dictionary of visited elements of array with value equals to the no. of visits\n",
        "arr.sort()#sort array firstly\n",
        "for i in arr:\n",
        "    if(i not in d):\n",
        "        d[i]=1\n",
        "    else:\n",
        "        d[i]+=1\n",
        "        #now dictionary is also sorted in asc-order as loops traverse in asc-ordered array\n",
        "k=int(input())\n",
        "for i in d:\n",
        "    if(d[i]==k): #comparing key's value with 'k' if it's true then return key\n",
        "        print(i)\n",
        "        break# as we find the  smmallest key with value=k from left to right as dictionary sorted in asc order so we break loop in first findings\n",
        "\n",
        "\n"
      ],
      "execution_count": 68,
      "outputs": [
        {
          "output_type": "stream",
          "text": [
            "5\n",
            "2 2 1 3 1\n",
            "2\n",
            "1\n"
          ],
          "name": "stdout"
        }
      ]
    },
    {
      "cell_type": "code",
      "metadata": {
        "id": "D0YL07KuOXzd",
        "colab_type": "code",
        "colab": {
          "base_uri": "https://localhost:8080/",
          "height": 34
        },
        "outputId": "ed744266-6fc3-41b5-ca38-114f2b76b1f2"
      },
      "source": [
        "#dictionary:--\n",
        "d"
      ],
      "execution_count": 69,
      "outputs": [
        {
          "output_type": "execute_result",
          "data": {
            "text/plain": [
              "{1: 2, 2: 2, 3: 1}"
            ]
          },
          "metadata": {
            "tags": []
          },
          "execution_count": 69
        }
      ]
    }
  ]
}