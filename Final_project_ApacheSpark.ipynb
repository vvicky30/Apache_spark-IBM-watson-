{
    "cells": [
        {
            "cell_type": "code",
            "execution_count": null,
            "metadata": {},
            "outputs": [],
            "source": "from IPython.display import Markdown, display\ndef printmd(string):\n    display(Markdown('# <span style=\"color:red\">'+string+'</span>'))\n\n\nif ('sc' in locals() or 'sc' in globals()):\n    printmd('<<<<<!!!!! It seems that you are running in a IBM Watson Studio Apache Spark Notebook. Please run it in an IBM Watson Studio Default Runtime (without Apache Spark) !!!!!>>>>>')\n"
        },
        {
            "cell_type": "code",
            "execution_count": null,
            "metadata": {},
            "outputs": [],
            "source": "!pip install pyspark==2.4.5"
        },
        {
            "cell_type": "code",
            "execution_count": null,
            "metadata": {},
            "outputs": [],
            "source": "try:\n    from pyspark import SparkContext, SparkConf\n    from pyspark.sql import SparkSession\nexcept ImportError as e:\n    printmd('<<<<<!!!!! Please restart your kernel after installing Apache Spark !!!!!>>>>>')"
        },
        {
            "cell_type": "code",
            "execution_count": null,
            "metadata": {},
            "outputs": [],
            "source": "sc = SparkContext.getOrCreate(SparkConf().setMaster(\"local[*]\"))\n\nspark = SparkSession \\\n    .builder \\\n    .getOrCreate()"
        },
        {
            "cell_type": "markdown",
            "metadata": {},
            "source": "Let\u2019s start by downloading the dataset and creating a dataframe. This dataset can be found on DAX, the IBM Data Asset Exchange and can be downloaded for free.\n\nhttps://developer.ibm.com/exchanges/data/all/jfk-weather-data/"
        },
        {
            "cell_type": "code",
            "execution_count": 4,
            "metadata": {},
            "outputs": [
                {
                    "name": "stdout",
                    "output_type": "stream",
                    "text": "--2020-05-15 19:05:34--  http://max-training-data.s3-api.us-geo.objectstorage.softlayer.net/noaa-weather/jfk_weather.tar.gz\nResolving max-training-data.s3-api.us-geo.objectstorage.softlayer.net (max-training-data.s3-api.us-geo.objectstorage.softlayer.net)... 67.228.254.196\nConnecting to max-training-data.s3-api.us-geo.objectstorage.softlayer.net (max-training-data.s3-api.us-geo.objectstorage.softlayer.net)|67.228.254.196|:80... connected.\nHTTP request sent, awaiting response... 200 OK\nLength: 2575759 (2.5M) [application/x-tar]\nSaving to: 'jfk_weather.tar.gz'\n\n100%[======================================>] 2,575,759   --.-K/s   in 0.03s   \n\n2020-05-15 19:05:35 (70.8 MB/s) - 'jfk_weather.tar.gz' saved [2575759/2575759]\n\n./._jfk_weather.csv\njfk_weather.csv\n"
                }
            ],
            "source": "# delete files from previous runs\n!rm -f jfk_weather*\n\n# download the file containing the data in CSV format\n!wget http://max-training-data.s3-api.us-geo.objectstorage.softlayer.net/noaa-weather/jfk_weather.tar.gz\n\n# extract the data\n!tar xvfz jfk_weather.tar.gz\n    \n# create a dataframe out of it by using the first row as field names and trying to infer a schema based on contents\ndf = spark.read.option(\"header\", \"true\").option(\"inferSchema\",\"true\").csv('jfk_weather.csv')\n\n# register a corresponding query table\ndf.createOrReplaceTempView('df')"
        },
        {
            "cell_type": "code",
            "execution_count": 8,
            "metadata": {},
            "outputs": [
                {
                    "name": "stderr",
                    "output_type": "stream",
                    "text": "/opt/ibm/conda/miniconda3.6/lib/python3.6/site-packages/IPython/core/interactiveshell.py:2714: DtypeWarning: Columns (8,10,11,12,13,14,15,16,17,20,22,23,25,40,63,64,67,68,69,84,85,86,87) have mixed types. Specify dtype option on import or set low_memory=False.\n  interactivity=interactivity, compiler=compiler, result=result)\n"
                }
            ],
            "source": "#jst for exploring dataset\nimport pandas as pd\ndaaaataaa=pd.read_csv('jfk_weather.csv')"
        },
        {
            "cell_type": "code",
            "execution_count": 10,
            "metadata": {},
            "outputs": [
                {
                    "data": {
                        "text/html": "<div>\n<style scoped>\n    .dataframe tbody tr th:only-of-type {\n        vertical-align: middle;\n    }\n\n    .dataframe tbody tr th {\n        vertical-align: top;\n    }\n\n    .dataframe thead th {\n        text-align: right;\n    }\n</style>\n<table border=\"1\" class=\"dataframe\">\n  <thead>\n    <tr style=\"text-align: right;\">\n      <th></th>\n      <th>STATION</th>\n      <th>STATION_NAME</th>\n      <th>ELEVATION</th>\n      <th>LATITUDE</th>\n      <th>LONGITUDE</th>\n      <th>DATE</th>\n      <th>REPORTTPYE</th>\n      <th>HOURLYSKYCONDITIONS</th>\n      <th>HOURLYVISIBILITY</th>\n      <th>HOURLYPRSENTWEATHERTYPE</th>\n      <th>...</th>\n      <th>MonthlyMaxSeaLevelPressureTime</th>\n      <th>MonthlyMinSeaLevelPressureValue</th>\n      <th>MonthlyMinSeaLevelPressureDate</th>\n      <th>MonthlyMinSeaLevelPressureTime</th>\n      <th>MonthlyTotalHeatingDegreeDays</th>\n      <th>MonthlyTotalCoolingDegreeDays</th>\n      <th>MonthlyDeptFromNormalHeatingDD</th>\n      <th>MonthlyDeptFromNormalCoolingDD</th>\n      <th>MonthlyTotalSeasonToDateHeatingDD</th>\n      <th>MonthlyTotalSeasonToDateCoolingDD</th>\n    </tr>\n  </thead>\n  <tbody>\n    <tr>\n      <th>0</th>\n      <td>WBAN:94789</td>\n      <td>JFK INTERNATIONAL AIRPORT NY US</td>\n      <td>3.4</td>\n      <td>40.6386</td>\n      <td>-73.7622</td>\n      <td>2010-01-01 00:51</td>\n      <td>FM-15</td>\n      <td>FEW:02 7 SCT:04 13 BKN:07 29</td>\n      <td>6.00</td>\n      <td>-RA:02 PL:06 BR:1 |RA:61 PL:74 |RA:61 PL:79</td>\n      <td>...</td>\n      <td>-9999</td>\n      <td>NaN</td>\n      <td>-9999</td>\n      <td>-9999</td>\n      <td>NaN</td>\n      <td>NaN</td>\n      <td>NaN</td>\n      <td>NaN</td>\n      <td>NaN</td>\n      <td>NaN</td>\n    </tr>\n    <tr>\n      <th>1</th>\n      <td>WBAN:94789</td>\n      <td>JFK INTERNATIONAL AIRPORT NY US</td>\n      <td>3.4</td>\n      <td>40.6386</td>\n      <td>-73.7622</td>\n      <td>2010-01-01 01:00</td>\n      <td>FM-12</td>\n      <td>NaN</td>\n      <td>5.59</td>\n      <td>||PL:79</td>\n      <td>...</td>\n      <td>-9999</td>\n      <td>NaN</td>\n      <td>-9999</td>\n      <td>-9999</td>\n      <td>NaN</td>\n      <td>NaN</td>\n      <td>NaN</td>\n      <td>NaN</td>\n      <td>NaN</td>\n      <td>NaN</td>\n    </tr>\n    <tr>\n      <th>2</th>\n      <td>WBAN:94789</td>\n      <td>JFK INTERNATIONAL AIRPORT NY US</td>\n      <td>3.4</td>\n      <td>40.6386</td>\n      <td>-73.7622</td>\n      <td>2010-01-01 01:51</td>\n      <td>FM-15</td>\n      <td>FEW:02 6 SCT:04 13 OVC:08 35</td>\n      <td>6.00</td>\n      <td>-RA:02 PL:06 BR:1 |RA:61 PL:74 |RA:61 PL:79</td>\n      <td>...</td>\n      <td>-9999</td>\n      <td>NaN</td>\n      <td>-9999</td>\n      <td>-9999</td>\n      <td>NaN</td>\n      <td>NaN</td>\n      <td>NaN</td>\n      <td>NaN</td>\n      <td>NaN</td>\n      <td>NaN</td>\n    </tr>\n    <tr>\n      <th>3</th>\n      <td>WBAN:94789</td>\n      <td>JFK INTERNATIONAL AIRPORT NY US</td>\n      <td>3.4</td>\n      <td>40.6386</td>\n      <td>-73.7622</td>\n      <td>2010-01-01 02:03</td>\n      <td>FM-16</td>\n      <td>FEW:02 6 SCT:04 13 OVC:08 35</td>\n      <td>6.00</td>\n      <td>-RA:02 BR:1 |RA:61 |RA:61</td>\n      <td>...</td>\n      <td>-9999</td>\n      <td>NaN</td>\n      <td>-9999</td>\n      <td>-9999</td>\n      <td>NaN</td>\n      <td>NaN</td>\n      <td>NaN</td>\n      <td>NaN</td>\n      <td>NaN</td>\n      <td>NaN</td>\n    </tr>\n    <tr>\n      <th>4</th>\n      <td>WBAN:94789</td>\n      <td>JFK INTERNATIONAL AIRPORT NY US</td>\n      <td>3.4</td>\n      <td>40.6386</td>\n      <td>-73.7622</td>\n      <td>2010-01-01 02:28</td>\n      <td>FM-16</td>\n      <td>BKN:07 7 BKN:07 15 OVC:08 35</td>\n      <td>5.00</td>\n      <td>-RA:02 BR:1 |RA:61 |RA:61</td>\n      <td>...</td>\n      <td>-9999</td>\n      <td>NaN</td>\n      <td>-9999</td>\n      <td>-9999</td>\n      <td>NaN</td>\n      <td>NaN</td>\n      <td>NaN</td>\n      <td>NaN</td>\n      <td>NaN</td>\n      <td>NaN</td>\n    </tr>\n    <tr>\n      <th>5</th>\n      <td>WBAN:94789</td>\n      <td>JFK INTERNATIONAL AIRPORT NY US</td>\n      <td>3.4</td>\n      <td>40.6386</td>\n      <td>-73.7622</td>\n      <td>2010-01-01 02:51</td>\n      <td>FM-15</td>\n      <td>BKN:07 7 OVC:08 15</td>\n      <td>5.00</td>\n      <td>-RA:02 BR:1 |RA:61 |RA:61</td>\n      <td>...</td>\n      <td>-9999</td>\n      <td>NaN</td>\n      <td>-9999</td>\n      <td>-9999</td>\n      <td>NaN</td>\n      <td>NaN</td>\n      <td>NaN</td>\n      <td>NaN</td>\n      <td>NaN</td>\n      <td>NaN</td>\n    </tr>\n    <tr>\n      <th>6</th>\n      <td>WBAN:94789</td>\n      <td>JFK INTERNATIONAL AIRPORT NY US</td>\n      <td>3.4</td>\n      <td>40.6386</td>\n      <td>-73.7622</td>\n      <td>2010-01-01 03:51</td>\n      <td>FM-15</td>\n      <td>FEW:02 5 OVC:08 12</td>\n      <td>5.00</td>\n      <td>-RA:02 BR:1 |RA:61 |RA:61</td>\n      <td>...</td>\n      <td>-9999</td>\n      <td>NaN</td>\n      <td>-9999</td>\n      <td>-9999</td>\n      <td>NaN</td>\n      <td>NaN</td>\n      <td>NaN</td>\n      <td>NaN</td>\n      <td>NaN</td>\n      <td>NaN</td>\n    </tr>\n  </tbody>\n</table>\n<p>7 rows \u00d7 90 columns</p>\n</div>",
                        "text/plain": "      STATION                     STATION_NAME  ELEVATION  LATITUDE  \\\n0  WBAN:94789  JFK INTERNATIONAL AIRPORT NY US        3.4   40.6386   \n1  WBAN:94789  JFK INTERNATIONAL AIRPORT NY US        3.4   40.6386   \n2  WBAN:94789  JFK INTERNATIONAL AIRPORT NY US        3.4   40.6386   \n3  WBAN:94789  JFK INTERNATIONAL AIRPORT NY US        3.4   40.6386   \n4  WBAN:94789  JFK INTERNATIONAL AIRPORT NY US        3.4   40.6386   \n5  WBAN:94789  JFK INTERNATIONAL AIRPORT NY US        3.4   40.6386   \n6  WBAN:94789  JFK INTERNATIONAL AIRPORT NY US        3.4   40.6386   \n\n   LONGITUDE              DATE REPORTTPYE           HOURLYSKYCONDITIONS  \\\n0   -73.7622  2010-01-01 00:51      FM-15  FEW:02 7 SCT:04 13 BKN:07 29   \n1   -73.7622  2010-01-01 01:00      FM-12                           NaN   \n2   -73.7622  2010-01-01 01:51      FM-15  FEW:02 6 SCT:04 13 OVC:08 35   \n3   -73.7622  2010-01-01 02:03      FM-16  FEW:02 6 SCT:04 13 OVC:08 35   \n4   -73.7622  2010-01-01 02:28      FM-16  BKN:07 7 BKN:07 15 OVC:08 35   \n5   -73.7622  2010-01-01 02:51      FM-15            BKN:07 7 OVC:08 15   \n6   -73.7622  2010-01-01 03:51      FM-15            FEW:02 5 OVC:08 12   \n\n  HOURLYVISIBILITY                      HOURLYPRSENTWEATHERTYPE  ...  \\\n0             6.00  -RA:02 PL:06 BR:1 |RA:61 PL:74 |RA:61 PL:79  ...   \n1             5.59                                      ||PL:79  ...   \n2             6.00  -RA:02 PL:06 BR:1 |RA:61 PL:74 |RA:61 PL:79  ...   \n3             6.00                    -RA:02 BR:1 |RA:61 |RA:61  ...   \n4             5.00                    -RA:02 BR:1 |RA:61 |RA:61  ...   \n5             5.00                    -RA:02 BR:1 |RA:61 |RA:61  ...   \n6             5.00                    -RA:02 BR:1 |RA:61 |RA:61  ...   \n\n  MonthlyMaxSeaLevelPressureTime MonthlyMinSeaLevelPressureValue  \\\n0                          -9999                             NaN   \n1                          -9999                             NaN   \n2                          -9999                             NaN   \n3                          -9999                             NaN   \n4                          -9999                             NaN   \n5                          -9999                             NaN   \n6                          -9999                             NaN   \n\n  MonthlyMinSeaLevelPressureDate MonthlyMinSeaLevelPressureTime  \\\n0                          -9999                          -9999   \n1                          -9999                          -9999   \n2                          -9999                          -9999   \n3                          -9999                          -9999   \n4                          -9999                          -9999   \n5                          -9999                          -9999   \n6                          -9999                          -9999   \n\n  MonthlyTotalHeatingDegreeDays MonthlyTotalCoolingDegreeDays  \\\n0                           NaN                           NaN   \n1                           NaN                           NaN   \n2                           NaN                           NaN   \n3                           NaN                           NaN   \n4                           NaN                           NaN   \n5                           NaN                           NaN   \n6                           NaN                           NaN   \n\n  MonthlyDeptFromNormalHeatingDD MonthlyDeptFromNormalCoolingDD  \\\n0                            NaN                            NaN   \n1                            NaN                            NaN   \n2                            NaN                            NaN   \n3                            NaN                            NaN   \n4                            NaN                            NaN   \n5                            NaN                            NaN   \n6                            NaN                            NaN   \n\n  MonthlyTotalSeasonToDateHeatingDD  MonthlyTotalSeasonToDateCoolingDD  \n0                               NaN                                NaN  \n1                               NaN                                NaN  \n2                               NaN                                NaN  \n3                               NaN                                NaN  \n4                               NaN                                NaN  \n5                               NaN                                NaN  \n6                               NaN                                NaN  \n\n[7 rows x 90 columns]"
                    },
                    "execution_count": 10,
                    "metadata": {},
                    "output_type": "execute_result"
                }
            ],
            "source": "daaaataaa.head(7)"
        },
        {
            "cell_type": "markdown",
            "metadata": {},
            "source": "The dataset contains some null values, therefore schema inference didn\u2019t work properly for all columns, in addition, a column contained trailing characters, so we need to clean up the data set first. This is a normal task in any data science project since your data is never clean, don\u2019t worry if you don\u2019t understand all code, you won\u2019t be asked about it. "
        },
        {
            "cell_type": "code",
            "execution_count": 13,
            "metadata": {},
            "outputs": [],
            "source": "#cleaning & filtering data\nimport random\nrandom.seed(42)\n\nfrom pyspark.sql.functions import translate, col\n\ndf_cleaned = df \\\n    .withColumn(\"HOURLYWindSpeed\", df.HOURLYWindSpeed.cast('double')) \\\n    .withColumn(\"HOURLYWindDirection\", df.HOURLYWindDirection.cast('double')) \\\n    .withColumn(\"HOURLYStationPressure\", translate(col(\"HOURLYStationPressure\"), \"s,\", \"\")) \\\n    .withColumn(\"HOURLYPrecip\", translate(col(\"HOURLYPrecip\"), \"s,\", \"\")) \\\n    .withColumn(\"HOURLYRelativeHumidity\", translate(col(\"HOURLYRelativeHumidity\"), \"*\", \"\")) \\\n    .withColumn(\"HOURLYDRYBULBTEMPC\", translate(col(\"HOURLYDRYBULBTEMPC\"), \"*\", \"\")) \\\n\ndf_cleaned =   df_cleaned \\\n                    .withColumn(\"HOURLYStationPressure\", df_cleaned.HOURLYStationPressure.cast('double')) \\\n                    .withColumn(\"HOURLYPrecip\", df_cleaned.HOURLYPrecip.cast('double')) \\\n                    .withColumn(\"HOURLYRelativeHumidity\", df_cleaned.HOURLYRelativeHumidity.cast('double')) \\\n                    .withColumn(\"HOURLYDRYBULBTEMPC\", df_cleaned.HOURLYDRYBULBTEMPC.cast('double')) \\\n\ndf_filtered = df_cleaned.filter(\"\"\"\n    HOURLYWindSpeed <> 0\n    and HOURLYWindSpeed IS NOT NULL\n    and HOURLYWindDirection IS NOT NULL\n    and HOURLYStationPressure IS NOT NULL\n    and HOURLYPressureTendency IS NOT NULL\n    and HOURLYPrecip IS NOT NULL\n    and HOURLYRelativeHumidity IS NOT NULL\n    and HOURLYDRYBULBTEMPC IS NOT NULL\n\"\"\")"
        },
        {
            "cell_type": "markdown",
            "metadata": {},
            "source": "We want to predict the value of one column based of some others. It is sometimes helpful to print a correlation matrix. "
        },
        {
            "cell_type": "code",
            "execution_count": 16,
            "metadata": {},
            "outputs": [
                {
                    "data": {
                        "text/plain": "array([[ 1.        ,  0.25478863, -0.26171147],\n       [ 0.25478863,  1.        , -0.13377466],\n       [-0.26171147, -0.13377466,  1.        ]])"
                    },
                    "execution_count": 16,
                    "metadata": {},
                    "output_type": "execute_result"
                }
            ],
            "source": "from pyspark.ml.feature import VectorAssembler\nvectorAssembler = VectorAssembler(inputCols=[\"HOURLYWindSpeed\",\"HOURLYWindDirection\",\"HOURLYStationPressure\"],\n                                  outputCol=\"features\")#converting \"HOURLYWindSpeed\",\"HOURLYWindDirection\",\"HOURLYStationPressure\" to the  dense-vector \ndf_pipeline = vectorAssembler.transform(df_filtered)\nfrom pyspark.ml.stat import Correlation\nCorrelation.corr(df_pipeline,\"features\").head()[0].toArray()"
        },
        {
            "cell_type": "code",
            "execution_count": 19,
            "metadata": {},
            "outputs": [
                {
                    "data": {
                        "text/plain": "array([[ 1.        ,  0.25478863, -0.01324305],\n       [ 0.25478863,  1.        , -0.18145395],\n       [-0.01324305, -0.18145395,  1.        ]])"
                    },
                    "execution_count": 19,
                    "metadata": {},
                    "output_type": "execute_result"
                }
            ],
            "source": "#for quiz question no 1-------\nvectorAssembler = VectorAssembler(inputCols=[\"HOURLYWindSpeed\",\"HOURLYWindDirection\",\"HOURLYPressureTendency\"],\n                                  outputCol=\"features\")#converting \"HOURLYWindSpeed\",\"HOURLYWindDirection\",\" HOURLYPressureTendency\" to the  dense-vector \ndf_pipeline = vectorAssembler.transform(df_filtered)\nfrom pyspark.ml.stat import Correlation\nCorrelation.corr(df_pipeline,\"features\").head()[0].toArray()"
        },
        {
            "cell_type": "markdown",
            "metadata": {},
            "source": "As we can see, HOURLYWindSpeed and HOURLYWindDirection correlate with 0.25478863 whereas HOURLYWindSpeed  and HOURLYStationPressure correlate with -0.26171147, this is a good sign if we want to predict HOURLYWindSpeed from HOURLYWindDirection and HOURLYStationPressure. Note that the numbers can change over time as we are always working with the latest data.\nSince this is supervised learning, let\u2019s split our data into train (80%) and test (20%) set."
        },
        {
            "cell_type": "code",
            "execution_count": 20,
            "metadata": {},
            "outputs": [],
            "source": "splits = df_filtered.randomSplit([0.8, 0.2])\ndf_train = splits[0]\ndf_test = splits[1]"
        },
        {
            "cell_type": "markdown",
            "metadata": {},
            "source": "Again, we can re-use our feature engineering pipeline"
        },
        {
            "cell_type": "code",
            "execution_count": 21,
            "metadata": {},
            "outputs": [],
            "source": "from pyspark.ml.feature import StringIndexer, OneHotEncoder\nfrom pyspark.ml.linalg import Vectors\nfrom pyspark.ml.feature import VectorAssembler\nfrom pyspark.ml.feature import Normalizer\nfrom pyspark.ml import Pipeline\n\nvectorAssembler = VectorAssembler(inputCols=[\n                                    \"HOURLYWindDirection\",\n                                    \"ELEVATION\",\n                                    \"HOURLYStationPressure\"],\n                                  outputCol=\"features\")\n\nnormalizer = Normalizer(inputCol=\"features\", outputCol=\"features_norm\", p=1.0)"
        },
        {
            "cell_type": "markdown",
            "metadata": {},
            "source": "Now we define a function for evaluating our regression prediction performance. We\u2019re using RMSE (Root Mean Squared Error) here , the smaller the better\u2026\n\n"
        },
        {
            "cell_type": "code",
            "execution_count": 22,
            "metadata": {},
            "outputs": [],
            "source": "def regression_metrics(prediction):\n    from pyspark.ml.evaluation import RegressionEvaluator\n    evaluator = RegressionEvaluator(\n    labelCol=\"HOURLYWindSpeed\", predictionCol=\"prediction\", metricName=\"rmse\")\n    rmse = evaluator.evaluate(prediction)\n    print(\"RMSE on test data = %g\" % rmse)"
        },
        {
            "cell_type": "markdown",
            "metadata": {},
            "source": "Let\u2019s run a linear regression model first for building a baseline.\n\n"
        },
        {
            "cell_type": "code",
            "execution_count": 23,
            "metadata": {},
            "outputs": [
                {
                    "name": "stdout",
                    "output_type": "stream",
                    "text": "RMSE on test data = 5.30775\n"
                }
            ],
            "source": "#LR1\n\n#question-2 ans\n\nfrom pyspark.ml.regression import LinearRegression\n\n\nlr = LinearRegression(labelCol=\"HOURLYWindSpeed\", featuresCol='features', maxIter=100, regParam=0.0, elasticNetParam=0.0)\npipeline = Pipeline(stages=[vectorAssembler, normalizer,lr])\nmodel = pipeline.fit(df_train)\nprediction = model.transform(df_test)\nregression_metrics(prediction)"
        },
        {
            "cell_type": "code",
            "execution_count": 24,
            "metadata": {},
            "outputs": [
                {
                    "name": "stdout",
                    "output_type": "stream",
                    "text": "RMSE on test data = 5.53835\n"
                }
            ],
            "source": "#question-3 ans-----\nlr = LinearRegression(labelCol=\"HOURLYWindSpeed\", featuresCol='features_norm', maxIter=100, regParam=0.0, elasticNetParam=0.0)\npipeline = Pipeline(stages=[vectorAssembler, normalizer,lr])\nmodel = pipeline.fit(df_train)\nprediction = model.transform(df_test)\nregression_metrics(prediction)"
        },
        {
            "cell_type": "markdown",
            "metadata": {},
            "source": "Now we\u2019ll try a Gradient Boosted Tree Regressor"
        },
        {
            "cell_type": "code",
            "execution_count": 25,
            "metadata": {},
            "outputs": [
                {
                    "name": "stdout",
                    "output_type": "stream",
                    "text": "RMSE on test data = 5.09976\n"
                }
            ],
            "source": "#GBT1\n#question no 4 ans ------\n\nfrom pyspark.ml.regression import GBTRegressor\ngbt = GBTRegressor(labelCol=\"HOURLYWindSpeed\", maxIter=100)\npipeline = Pipeline(stages=[vectorAssembler, normalizer,gbt])\nmodel = pipeline.fit(df_train)\nprediction = model.transform(df_test)\nregression_metrics(prediction)"
        },
        {
            "cell_type": "markdown",
            "metadata": {},
            "source": "Now let\u2019s switch gears. Previously, we tried to predict HOURLYWindSpeed, but now we predict HOURLYWindDirection. In order to turn this into a classification problem we discretize the value using the Bucketizer. The new feature is called HOURLYWindDirectionBucketized."
        },
        {
            "cell_type": "code",
            "execution_count": 26,
            "metadata": {},
            "outputs": [],
            "source": "from pyspark.ml.feature import Bucketizer, OneHotEncoder\nbucketizer = Bucketizer(splits=[ 0, 180, float('Inf') ],inputCol=\"HOURLYWindDirection\", outputCol=\"HOURLYWindDirectionBucketized\")\nencoder = OneHotEncoder(inputCol=\"HOURLYWindDirectionBucketized\", outputCol=\"HOURLYWindDirectionOHE\")\n"
        },
        {
            "cell_type": "markdown",
            "metadata": {},
            "source": "Again, we define a function in order to assess how we perform. Here we just use the accuracy measure which gives us the fraction of correctly classified examples. Again, 0 is bad, 1 is good."
        },
        {
            "cell_type": "code",
            "execution_count": 27,
            "metadata": {},
            "outputs": [],
            "source": "def classification_metrics(prediction):\n    from pyspark.ml.evaluation import MulticlassClassificationEvaluator\n    mcEval = MulticlassClassificationEvaluator().setMetricName(\"accuracy\") .setPredictionCol(\"prediction\").setLabelCol(\"HOURLYWindDirectionBucketized\")\n    accuracy = mcEval.evaluate(prediction)\n    print(\"Accuracy on test data = %g\" % accuracy)"
        },
        {
            "cell_type": "markdown",
            "metadata": {},
            "source": "Again, for baselining we use LogisticRegression."
        },
        {
            "cell_type": "code",
            "execution_count": 28,
            "metadata": {},
            "outputs": [
                {
                    "name": "stdout",
                    "output_type": "stream",
                    "text": "Accuracy on test data = 0.692922\n"
                }
            ],
            "source": "#LGReg1\n#question no 5 ans---------\n\nfrom pyspark.ml.classification import LogisticRegression\nlr = LogisticRegression(labelCol=\"HOURLYWindDirectionBucketized\", maxIter=10)\n#,\"ELEVATION\",\"HOURLYStationPressure\",\"HOURLYPressureTendency\",\"HOURLYPrecip\"\n\nvectorAssembler = VectorAssembler(inputCols=[\"HOURLYWindSpeed\",\"HOURLYDRYBULBTEMPC\"],\n                                  outputCol=\"features\")\n\npipeline = Pipeline(stages=[bucketizer,vectorAssembler,normalizer,lr])\nmodel = pipeline.fit(df_train)\nprediction = model.transform(df_test)\nclassification_metrics(prediction)"
        },
        {
            "cell_type": "markdown",
            "metadata": {},
            "source": "Let\u2019s try some other Algorithms and see if model performance increases. It\u2019s also important to tweak other parameters like parameters of individual algorithms (e.g. number of trees for RandomForest) or parameters in the feature engineering pipeline, e.g. train/test split ratio, normalization, bucketing, \u2026"
        },
        {
            "cell_type": "code",
            "execution_count": 31,
            "metadata": {},
            "outputs": [
                {
                    "name": "stdout",
                    "output_type": "stream",
                    "text": "Accuracy on test data = 0.725342\n"
                }
            ],
            "source": "#RF1\n#question no 6-------\n\nfrom pyspark.ml.classification import RandomForestClassifier\nrf = RandomForestClassifier(labelCol=\"HOURLYWindDirectionBucketized\", numTrees=10)#chages number of trees from 30 to 10 for question no 8 ans--------\n\nvectorAssembler = VectorAssembler(inputCols=[\"HOURLYWindSpeed\",\"HOURLYDRYBULBTEMPC\",\"ELEVATION\",\"HOURLYStationPressure\",\"HOURLYPressureTendency\",\"HOURLYPrecip\"],\n                                  outputCol=\"features\")\n\npipeline = Pipeline(stages=[bucketizer,vectorAssembler,normalizer,rf])\nmodel = pipeline.fit(df_train)\nprediction = model.transform(df_test)\nclassification_metrics(prediction)"
        },
        {
            "cell_type": "code",
            "execution_count": 30,
            "metadata": {},
            "outputs": [
                {
                    "name": "stdout",
                    "output_type": "stream",
                    "text": "Accuracy on test data = 0.729909\n"
                }
            ],
            "source": "#GBT2\n#question no 7 ans----------\n\nfrom pyspark.ml.classification import GBTClassifier\ngbt = GBTClassifier(labelCol=\"HOURLYWindDirectionBucketized\", maxIter=100)\n\nvectorAssembler = VectorAssembler(inputCols=[\"HOURLYWindSpeed\",\"HOURLYDRYBULBTEMPC\",\"ELEVATION\",\"HOURLYStationPressure\",\"HOURLYPressureTendency\",\"HOURLYPrecip\"],\n                                  outputCol=\"features\")\n\npipeline = Pipeline(stages=[bucketizer,vectorAssembler,normalizer,gbt])\nmodel = pipeline.fit(df_train)\nprediction = model.transform(df_test)\nclassification_metrics(prediction)"
        }
    ],
    "metadata": {
        "kernelspec": {
            "display_name": "Python 3.6 with Spark",
            "language": "python3",
            "name": "python36"
        },
        "language_info": {
            "codemirror_mode": {
                "name": "ipython",
                "version": 3
            },
            "file_extension": ".py",
            "mimetype": "text/x-python",
            "name": "python",
            "nbconvert_exporter": "python",
            "pygments_lexer": "ipython3",
            "version": "3.6.8"
        }
    },
    "nbformat": 4,
    "nbformat_minor": 1
}