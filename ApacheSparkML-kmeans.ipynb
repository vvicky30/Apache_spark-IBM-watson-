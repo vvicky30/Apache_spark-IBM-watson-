{
    "cells": [
        {
            "cell_type": "code",
            "execution_count": 1,
            "metadata": {},
            "outputs": [
                {
                    "name": "stdout",
                    "output_type": "stream",
                    "text": "Waiting for a Spark session to start...\nSpark Initialization Done! ApplicationId = app-20200515132124-0000\nKERNEL_ID = 3e415489-7edd-4571-b15f-250bf4846c3f\n"
                },
                {
                    "data": {
                        "text/markdown": "# <span style=\"color:red\"><<<<<!!!!! It seems that you are running in a IBM Watson Studio Apache Spark Notebook. Please run it in an IBM Watson Studio Default Runtime (without Apache Spark) !!!!!>>>>></span>",
                        "text/plain": "<IPython.core.display.Markdown object>"
                    },
                    "metadata": {},
                    "output_type": "display_data"
                }
            ],
            "source": "from IPython.display import Markdown, display\ndef printmd(string):\n    display(Markdown('# <span style=\"color:red\">'+string+'</span>'))\n\n\nif ('sc' in locals() or 'sc' in globals()):\n    printmd('<<<<<!!!!! It seems that you are running in a IBM Watson Studio Apache Spark Notebook. Please run it in an IBM Watson Studio Default Runtime (without Apache Spark) !!!!!>>>>>')\n"
        },
        {
            "cell_type": "code",
            "execution_count": null,
            "metadata": {},
            "outputs": [],
            "source": "!pip install pyspark==2.4.5"
        },
        {
            "cell_type": "code",
            "execution_count": null,
            "metadata": {},
            "outputs": [],
            "source": "try:\n    from pyspark import SparkContext, SparkConf\n    from pyspark.sql import SparkSession\nexcept ImportError as e:\n    printmd('<<<<<!!!!! Please restart your kernel after installing Apache Spark !!!!!>>>>>')"
        },
        {
            "cell_type": "code",
            "execution_count": null,
            "metadata": {},
            "outputs": [],
            "source": "sc = SparkContext.getOrCreate(SparkConf().setMaster(\"local[*]\"))\n\nspark = SparkSession \\\n    .builder \\\n    .getOrCreate()"
        },
        {
            "cell_type": "markdown",
            "metadata": {
                "collapsed": true
            },
            "source": "Welcome to exercise two of week three of \u201cApache Spark for Scalable Machine Learning on BigData\u201d. In this exercise we\u2019ll work on clustering.\n\nLet\u2019s create our DataFrame again:\n"
        },
        {
            "cell_type": "code",
            "execution_count": 2,
            "metadata": {},
            "outputs": [
                {
                    "name": "stdout",
                    "output_type": "stream",
                    "text": "--2020-05-15 13:21:43--  https://github.com/IBM/coursera/raw/master/hmp.parquet\nResolving github.com (github.com)... 140.82.112.3\nConnecting to github.com (github.com)|140.82.112.3|:443... connected.\nHTTP request sent, awaiting response... 301 Moved Permanently\nLocation: https://github.com/IBM/skillsnetwork/raw/master/hmp.parquet [following]\n--2020-05-15 13:21:43--  https://github.com/IBM/skillsnetwork/raw/master/hmp.parquet\nReusing existing connection to github.com:443.\nHTTP request sent, awaiting response... 302 Found\nLocation: https://raw.githubusercontent.com/IBM/skillsnetwork/master/hmp.parquet [following]\n--2020-05-15 13:21:44--  https://raw.githubusercontent.com/IBM/skillsnetwork/master/hmp.parquet\nResolving raw.githubusercontent.com (raw.githubusercontent.com)... 199.232.8.133\nConnecting to raw.githubusercontent.com (raw.githubusercontent.com)|199.232.8.133|:443... connected.\nHTTP request sent, awaiting response... 200 OK\nLength: 932997 (911K) [application/octet-stream]\nSaving to: 'hmp.parquet'\n\n100%[======================================>] 932,997     --.-K/s   in 0.03s   \n\n2020-05-15 13:21:44 (29.6 MB/s) - 'hmp.parquet' saved [932997/932997]\n\n"
                }
            ],
            "source": "# delete files from previous runs\n!rm -f hmp.parquet*\n\n# download the file containing the data in PARQUET format\n!wget https://github.com/IBM/coursera/raw/master/hmp.parquet\n    \n# create a dataframe out of it\ndf = spark.read.parquet('hmp.parquet')\n\n# register a corresponding query table\ndf.createOrReplaceTempView('df')"
        },
        {
            "cell_type": "markdown",
            "metadata": {},
            "source": "Let\u2019s reuse our feature engineering pipeline."
        },
        {
            "cell_type": "code",
            "execution_count": 18,
            "metadata": {},
            "outputs": [
                {
                    "name": "stdout",
                    "output_type": "stream",
                    "text": "+---+---+---+--------------------+-----------+----------+--------------+----------------+--------------------+\n|  x|  y|  z|              source|      class|classIndex|   categoryVec|        features|       features_norm|\n+---+---+---+--------------------+-----------+----------+--------------+----------------+--------------------+\n| 22| 49| 35|Accelerometer-201...|Brush_teeth|       6.0|(13,[6],[1.0])|[22.0,49.0,35.0]|[0.20754716981132...|\n| 22| 49| 35|Accelerometer-201...|Brush_teeth|       6.0|(13,[6],[1.0])|[22.0,49.0,35.0]|[0.20754716981132...|\n| 22| 52| 35|Accelerometer-201...|Brush_teeth|       6.0|(13,[6],[1.0])|[22.0,52.0,35.0]|[0.20183486238532...|\n| 22| 52| 35|Accelerometer-201...|Brush_teeth|       6.0|(13,[6],[1.0])|[22.0,52.0,35.0]|[0.20183486238532...|\n| 21| 52| 34|Accelerometer-201...|Brush_teeth|       6.0|(13,[6],[1.0])|[21.0,52.0,34.0]|[0.19626168224299...|\n| 22| 51| 34|Accelerometer-201...|Brush_teeth|       6.0|(13,[6],[1.0])|[22.0,51.0,34.0]|[0.20560747663551...|\n| 20| 50| 35|Accelerometer-201...|Brush_teeth|       6.0|(13,[6],[1.0])|[20.0,50.0,35.0]|[0.19047619047619...|\n| 22| 52| 34|Accelerometer-201...|Brush_teeth|       6.0|(13,[6],[1.0])|[22.0,52.0,34.0]|[0.20370370370370...|\n| 22| 50| 34|Accelerometer-201...|Brush_teeth|       6.0|(13,[6],[1.0])|[22.0,50.0,34.0]|[0.20754716981132...|\n| 22| 51| 35|Accelerometer-201...|Brush_teeth|       6.0|(13,[6],[1.0])|[22.0,51.0,35.0]|[0.20370370370370...|\n| 21| 51| 33|Accelerometer-201...|Brush_teeth|       6.0|(13,[6],[1.0])|[21.0,51.0,33.0]|[0.2,0.4857142857...|\n| 20| 50| 34|Accelerometer-201...|Brush_teeth|       6.0|(13,[6],[1.0])|[20.0,50.0,34.0]|[0.19230769230769...|\n| 21| 49| 33|Accelerometer-201...|Brush_teeth|       6.0|(13,[6],[1.0])|[21.0,49.0,33.0]|[0.20388349514563...|\n| 21| 49| 33|Accelerometer-201...|Brush_teeth|       6.0|(13,[6],[1.0])|[21.0,49.0,33.0]|[0.20388349514563...|\n| 20| 51| 35|Accelerometer-201...|Brush_teeth|       6.0|(13,[6],[1.0])|[20.0,51.0,35.0]|[0.18867924528301...|\n| 18| 49| 34|Accelerometer-201...|Brush_teeth|       6.0|(13,[6],[1.0])|[18.0,49.0,34.0]|[0.17821782178217...|\n| 19| 48| 34|Accelerometer-201...|Brush_teeth|       6.0|(13,[6],[1.0])|[19.0,48.0,34.0]|[0.18811881188118...|\n| 16| 53| 34|Accelerometer-201...|Brush_teeth|       6.0|(13,[6],[1.0])|[16.0,53.0,34.0]|[0.15533980582524...|\n| 18| 52| 35|Accelerometer-201...|Brush_teeth|       6.0|(13,[6],[1.0])|[18.0,52.0,35.0]|[0.17142857142857...|\n| 18| 51| 32|Accelerometer-201...|Brush_teeth|       6.0|(13,[6],[1.0])|[18.0,51.0,32.0]|[0.17821782178217...|\n+---+---+---+--------------------+-----------+----------+--------------+----------------+--------------------+\nonly showing top 20 rows\n\n"
                }
            ],
            "source": "from pyspark.ml.feature import OneHotEncoder, StringIndexer, VectorAssembler, Normalizer\nfrom pyspark.ml.linalg import Vectors\nfrom pyspark.ml import Pipeline\n\nindexer = StringIndexer(inputCol=\"class\", outputCol=\"classIndex\")\nencoder = OneHotEncoder(inputCol=\"classIndex\", outputCol=\"categoryVec\")\nvectorAssembler = VectorAssembler(inputCols=[\"x\",\"y\",\"z\"],\n                                  outputCol=\"features\")\nnormalizer = Normalizer(inputCol=\"features\", outputCol=\"features_norm\", p=1.0)\n\npipeline = Pipeline(stages=[indexer, encoder, vectorAssembler, normalizer])\nmodel = pipeline.fit(df)\nprediction = model.transform(df)\nprediction.show()"
        },
        {
            "cell_type": "markdown",
            "metadata": {},
            "source": "Now let\u2019s create a new pipeline for kmeans."
        },
        {
            "cell_type": "code",
            "execution_count": 15,
            "metadata": {},
            "outputs": [
                {
                    "name": "stdout",
                    "output_type": "stream",
                    "text": "Silhouette with squared euclidean distance = 0.41244594513295846\n"
                }
            ],
            "source": "from pyspark.ml.clustering import KMeans\nfrom pyspark.ml.evaluation import ClusteringEvaluator\n\nkmeans = KMeans(featuresCol=\"features\").setK(14).setSeed(1)#as here we set k's value as 13 becaus there is only 13 possible classes\npipeline = Pipeline(stages=[vectorAssembler, kmeans])#vectorAssemble already configured above\nmodel = pipeline.fit(df)\npredictions = model.transform(df)\n\nevaluator = ClusteringEvaluator()\n\nsilhouette = evaluator.evaluate(predictions)\nprint(\"Silhouette with squared euclidean distance = \" + str(silhouette))"
        },
        {
            "cell_type": "code",
            "execution_count": 6,
            "metadata": {},
            "outputs": [
                {
                    "name": "stdout",
                    "output_type": "stream",
                    "text": "+---+---+---+--------------------+-----------+----------------+----------+\n|  x|  y|  z|              source|      class|        features|prediction|\n+---+---+---+--------------------+-----------+----------------+----------+\n| 22| 49| 35|Accelerometer-201...|Brush_teeth|[22.0,49.0,35.0]|         7|\n| 22| 49| 35|Accelerometer-201...|Brush_teeth|[22.0,49.0,35.0]|         7|\n| 22| 52| 35|Accelerometer-201...|Brush_teeth|[22.0,52.0,35.0]|         7|\n| 22| 52| 35|Accelerometer-201...|Brush_teeth|[22.0,52.0,35.0]|         7|\n| 21| 52| 34|Accelerometer-201...|Brush_teeth|[21.0,52.0,34.0]|         7|\n| 22| 51| 34|Accelerometer-201...|Brush_teeth|[22.0,51.0,34.0]|         7|\n| 20| 50| 35|Accelerometer-201...|Brush_teeth|[20.0,50.0,35.0]|         7|\n| 22| 52| 34|Accelerometer-201...|Brush_teeth|[22.0,52.0,34.0]|         7|\n| 22| 50| 34|Accelerometer-201...|Brush_teeth|[22.0,50.0,34.0]|         7|\n| 22| 51| 35|Accelerometer-201...|Brush_teeth|[22.0,51.0,35.0]|         7|\n| 21| 51| 33|Accelerometer-201...|Brush_teeth|[21.0,51.0,33.0]|         7|\n| 20| 50| 34|Accelerometer-201...|Brush_teeth|[20.0,50.0,34.0]|         7|\n| 21| 49| 33|Accelerometer-201...|Brush_teeth|[21.0,49.0,33.0]|         7|\n| 21| 49| 33|Accelerometer-201...|Brush_teeth|[21.0,49.0,33.0]|         7|\n| 20| 51| 35|Accelerometer-201...|Brush_teeth|[20.0,51.0,35.0]|         7|\n| 18| 49| 34|Accelerometer-201...|Brush_teeth|[18.0,49.0,34.0]|         7|\n| 19| 48| 34|Accelerometer-201...|Brush_teeth|[19.0,48.0,34.0]|         7|\n| 16| 53| 34|Accelerometer-201...|Brush_teeth|[16.0,53.0,34.0]|         7|\n| 18| 52| 35|Accelerometer-201...|Brush_teeth|[18.0,52.0,35.0]|         7|\n| 18| 51| 32|Accelerometer-201...|Brush_teeth|[18.0,51.0,32.0]|         7|\n+---+---+---+--------------------+-----------+----------------+----------+\nonly showing top 20 rows\n\n"
                }
            ],
            "source": "predictions.show()"
        },
        {
            "cell_type": "markdown",
            "metadata": {},
            "source": "We have 14 different movement patterns in the dataset, so setting K of KMeans to 14 is a good idea. But please experiment with different values for K, do you find a sweet spot? The closer Silhouette gets to 1, the better.\n\nhttps://en.wikipedia.org/wiki/Silhouette_(clustering)\n"
        },
        {
            "cell_type": "code",
            "execution_count": 16,
            "metadata": {},
            "outputs": [
                {
                    "name": "stdout",
                    "output_type": "stream",
                    "text": "for k= 11\nSilhouette with squared euclidean distance=0.4819049717562352\nfor k= 12\nSilhouette with squared euclidean distance=0.40964155503229643\nfor k= 13\nSilhouette with squared euclidean distance=0.4153293521373778\n"
                }
            ],
            "source": "# please change the pipeline the check performance for different K, feel free to use a loop\nfrom pyspark.ml.clustering import KMeans\nfrom pyspark.ml.evaluation import ClusteringEvaluator\nevaluator = ClusteringEvaluator()\nfor i in range(11,14):\n    \n    kmeans = KMeans(featuresCol=\"features\").setK(i).setSeed(1)#putting iterator 'i'\n    pipeline = Pipeline(stages=[vectorAssembler, kmeans])#vectorAssemble already configured above\n    model = pipeline.fit(df)\n    predictions = model.transform(df)\n\n    #evaluator = ClusteringEvaluator()\n\n    silhouette = evaluator.evaluate(predictions)\n    print(\"for k=\",i)\n    print(\"Silhouette with squared euclidean distance=\" + str(silhouette))\n"
        },
        {
            "cell_type": "markdown",
            "metadata": {},
            "source": "Now please extend the pipeline to work on the normalized features. You need to tell KMeans to use the normalized feature column and change the pipeline in order to contain the normalizer stage as well."
        },
        {
            "cell_type": "code",
            "execution_count": 20,
            "metadata": {},
            "outputs": [
                {
                    "name": "stdout",
                    "output_type": "stream",
                    "text": "Silhouette with squared euclidean distance = 0.2668998965895519\n"
                }
            ],
            "source": "kmeans = KMeans(featuresCol=\"features_norm\").setK(14).setSeed(1)\n#as we know that normalizer is obtaining ouputCol= features_norm by the use of inputCol=features(which is actually obtained by vectorAssembler )\n#so pipline is ordered as =1.vectorAssembler  2.normalizer  3.kmeans \n                           \npipeline = Pipeline(stages=[vectorAssembler,normalizer,kmeans])#as normalizer already configured above\nmodel = pipeline.fit(df)\n\npredictions = model.transform(df)\n\nevaluator = ClusteringEvaluator()\n\nsilhouette = evaluator.evaluate(predictions)\nprint(\"Silhouette with squared euclidean distance = \" + str(silhouette))#very optamized one \n"
        },
        {
            "cell_type": "markdown",
            "metadata": {},
            "source": "Sometimes, inflating the dataset helps, here we multiply x by 10, let\u2019s see if the performance inceases."
        },
        {
            "cell_type": "code",
            "execution_count": 23,
            "metadata": {},
            "outputs": [
                {
                    "name": "stdout",
                    "output_type": "stream",
                    "text": "+---+---+--------------------+-----------+---+\n|  y|  z|              source|      class|  x|\n+---+---+--------------------+-----------+---+\n| 49| 35|Accelerometer-201...|Brush_teeth|220|\n| 49| 35|Accelerometer-201...|Brush_teeth|220|\n| 52| 35|Accelerometer-201...|Brush_teeth|220|\n| 52| 35|Accelerometer-201...|Brush_teeth|220|\n| 52| 34|Accelerometer-201...|Brush_teeth|210|\n| 51| 34|Accelerometer-201...|Brush_teeth|220|\n| 50| 35|Accelerometer-201...|Brush_teeth|200|\n| 52| 34|Accelerometer-201...|Brush_teeth|220|\n| 50| 34|Accelerometer-201...|Brush_teeth|220|\n| 51| 35|Accelerometer-201...|Brush_teeth|220|\n| 51| 33|Accelerometer-201...|Brush_teeth|210|\n| 50| 34|Accelerometer-201...|Brush_teeth|200|\n| 49| 33|Accelerometer-201...|Brush_teeth|210|\n| 49| 33|Accelerometer-201...|Brush_teeth|210|\n| 51| 35|Accelerometer-201...|Brush_teeth|200|\n| 49| 34|Accelerometer-201...|Brush_teeth|180|\n| 48| 34|Accelerometer-201...|Brush_teeth|190|\n| 53| 34|Accelerometer-201...|Brush_teeth|160|\n| 52| 35|Accelerometer-201...|Brush_teeth|180|\n| 51| 32|Accelerometer-201...|Brush_teeth|180|\n+---+---+--------------------+-----------+---+\nonly showing top 20 rows\n\n"
                }
            ],
            "source": "from pyspark.sql.functions import col\ndf_denormalized = df.select([col('*'),(col('x')*10)]).drop('x').withColumnRenamed('(x * 10)','x')\ndf_denormalized.show()"
        },
        {
            "cell_type": "code",
            "execution_count": 22,
            "metadata": {},
            "outputs": [
                {
                    "name": "stdout",
                    "output_type": "stream",
                    "text": "Silhouette with squared euclidean distance = 0.5709023393004293\n"
                }
            ],
            "source": "kmeans = KMeans(featuresCol=\"features\").setK(14).setSeed(1)\npipeline = Pipeline(stages=[vectorAssembler, kmeans])\nmodel = pipeline.fit(df_denormalized)\npredictions = model.transform(df_denormalized)\n\nevaluator = ClusteringEvaluator()\n\nsilhouette = evaluator.evaluate(predictions)\nprint(\"Silhouette with squared euclidean distance = \" + str(silhouette))"
        },
        {
            "cell_type": "markdown",
            "metadata": {},
            "source": "Apache SparkML can be used to try many different algorithms and parametrizations using the same pipeline. Please change the code below to use GaussianMixture over KMeans. Please use the following link for your reference.\n\nhttps://spark.apache.org/docs/latest/ml-clustering.html#gaussian-mixture-model-gmm\n"
        },
        {
            "cell_type": "code",
            "execution_count": 24,
            "metadata": {},
            "outputs": [
                {
                    "name": "stdout",
                    "output_type": "stream",
                    "text": "Silhouette with squared euclidean distance = 0.15906267433367427\n"
                }
            ],
            "source": "from pyspark.ml.clustering import GaussianMixture\n\ngmm = GaussianMixture(featuresCol=\"features\").setK(14).setSeed(1)\npipeline = Pipeline(stages=[vectorAssembler,gmm])\n\nmodel = pipeline.fit(df)\n\npredictions = model.transform(df)\n\nevaluator = ClusteringEvaluator()\n\nsilhouette = evaluator.evaluate(predictions)\nprint(\"Silhouette with squared euclidean distance = \" + str(silhouette))"
        }
    ],
    "metadata": {
        "kernelspec": {
            "display_name": "Python 3.6 with Spark",
            "language": "python3",
            "name": "python36"
        },
        "language_info": {
            "codemirror_mode": {
                "name": "ipython",
                "version": 3
            },
            "file_extension": ".py",
            "mimetype": "text/x-python",
            "name": "python",
            "nbconvert_exporter": "python",
            "pygments_lexer": "ipython3",
            "version": "3.6.8"
        }
    },
    "nbformat": 4,
    "nbformat_minor": 1
}